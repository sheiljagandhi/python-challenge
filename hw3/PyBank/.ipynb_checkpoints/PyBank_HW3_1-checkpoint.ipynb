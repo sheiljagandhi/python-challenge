{
 "cells": [
  {
   "cell_type": "code",
   "execution_count": 5,
   "metadata": {},
   "outputs": [],
   "source": [
    "import pandas as pd"
   ]
  },
  {
   "cell_type": "code",
   "execution_count": 8,
   "metadata": {},
   "outputs": [],
   "source": [
    "csv_path = '/Users/sheiljagandhi/Downloads/UCBSAN201805DATA1-master 4/02-Homework/03-Python/Instructions/PyBank/raw_data/budget_data_1.csv'"
   ]
  },
  {
   "cell_type": "code",
   "execution_count": 10,
   "metadata": {},
   "outputs": [
    {
     "name": "stdout",
     "output_type": "stream",
     "text": [
      "Financial Analysis\n",
      "----------------------------\n",
      "Total Months: 40\n",
      "Total Revenue: $18971412\n"
     ]
    }
   ],
   "source": [
    "csvfile = csv_path\n",
    "data = pd.read_csv(csvfile)\n",
    "countmonth = data[\"Date\"].count()-1\n",
    "total_rev = data[\"Revenue\"].sum()\n",
    "print(\"Financial Analysis\")\n",
    "print(\"----------------------------\")\n",
    "print(\"Total Months: \" + str(countmonth) )\n",
    "print(\"Total Revenue: $\" + str(total_rev) )\n",
    "#--------------------------get change, total, min, max------------------------\n",
    "revchange = []\n",
    "dictt = {}\n",
    "count = 0"
   ]
  },
  {
   "cell_type": "code",
   "execution_count": 11,
   "metadata": {},
   "outputs": [
    {
     "name": "stdout",
     "output_type": "stream",
     "text": [
      "Average Revenue Change: $-6758.975\n",
      "Greatest Increase in Revenue: Jul-14 ($1760377)\n",
      "Greatest Decrease in Revenue: Aug-14 ($-1779747)\n"
     ]
    }
   ],
   "source": [
    "date = []\n",
    "Date = data[\"Date\"]\n",
    "rev = data[\"Revenue\"]\n",
    "for i in range(0 , len(rev)-1):\n",
    "    revchange.append(rev[i+1] - rev[i])\n",
    "# get number of change\n",
    "for j in revchange:\n",
    "    count = count + 1\n",
    "# get total change\n",
    "total_change = sum(revchange)\n",
    "# avg change\n",
    "avgRev_change = total_change / count\n",
    "print(\"Average Revenue Change: $\" + str(avgRev_change))\n",
    "for a in range(0, len(revchange) -1):\n",
    "    date.append(Date[a])\n",
    "\n",
    "for b in range(0, len(date) -1):\n",
    "    dictt[date[b]] = revchange[b]\n",
    "    \n",
    "max_incr = max(dictt.values())\n",
    "min_incr = min(dictt.values())  ## get the max and min value \n",
    "# get month according to the value\n",
    "MaxMin_date = []\n",
    "for key, value in dictt.items():\n",
    "    if value == max_incr:\n",
    "        MaxMin_date.append(key)\n",
    "    if value == min_incr:\n",
    "        MaxMin_date.append(key)\n",
    "print(\"Greatest Increase in Revenue: \" + str(MaxMin_date[0]) + \" ($\" + str(max_incr) + \")\")\n",
    "print(\"Greatest Decrease in Revenue: \" + str(MaxMin_date[1]) + \" ($\" + str(min_incr) + \")\")\n",
    "\n",
    "f = open(\"Output_analysis.txt\" , \"w\")\n",
    "f.write(\"Financial Analysis\"+ \"\\n\")\n",
    "f.write(\"----------------------------\"+ \"\\n\")\n",
    "f.write(\"Total Months: \" + str(countmonth) + \"\\n\")\n",
    "f.write(\"Total Revenue: $\" + str(total_rev)+ \"\\n\")\n",
    "f.write(\"Average Revenue Change: $\" + str(avgRev_change)+ \"\\n\")\n",
    "f.write(\"Greatest Increase in Revenue: \" + str(MaxMin_date[0]) + \" ($\" + str(max_incr) + \")\"+ \"\\n\")\n",
    "f.write(\"Greatest Decrease in Revenue: \" + str(MaxMin_date[1]) + \" ($\" + str(min_incr) + \")\"+\"\\n\")\n",
    "f.close()"
   ]
  },
  {
   "cell_type": "code",
   "execution_count": 12,
   "metadata": {},
   "outputs": [
    {
     "name": "stdout",
     "output_type": "stream",
     "text": [
      "Financial Analysis\n",
      "----------------------------\n",
      "Total Months: 40\n",
      "Total Revenue: $18971412\n",
      "Average Revenue Change: $-6758.975\n",
      "Greatest Increase in Revenue: Jul-14 ($1760377)\n",
      "Greatest Decrease in Revenue: Aug-14 ($-1779747)\n"
     ]
    }
   ],
   "source": [
    "csvfile = csv_path\n",
    "data = pd.read_csv(csvfile)\n",
    "countmonth = data[\"Date\"].count()-1\n",
    "total_rev = data[\"Revenue\"].sum()\n",
    "print(\"Financial Analysis\")\n",
    "print(\"----------------------------\")\n",
    "print(\"Total Months: \" + str(countmonth) )\n",
    "print(\"Total Revenue: $\" + str(total_rev) )\n",
    "#--------------------------get change, total, min, max------------------------\n",
    "revchange = []\n",
    "dictt = {}\n",
    "count = 0\n",
    "date = []\n",
    "Date = data[\"Date\"]\n",
    "rev = data[\"Revenue\"]\n",
    "for i in range(0 , len(rev)-1):\n",
    "    revchange.append(rev[i+1] - rev[i])\n",
    "# get number of change\n",
    "for j in revchange:\n",
    "    count = count + 1\n",
    "# get total change\n",
    "total_change = sum(revchange)\n",
    "# avg change\n",
    "avgRev_change = total_change / count\n",
    "print(\"Average Revenue Change: $\" + str(avgRev_change))\n",
    "for a in range(0, len(revchange) -1):\n",
    "    date.append(Date[a])\n",
    "\n",
    "for b in range(0, len(date) -1):\n",
    "    dictt[date[b]] = revchange[b]\n",
    "    \n",
    "max_incr = max(dictt.values())\n",
    "min_incr = min(dictt.values())  ## get the max and min value \n",
    "# get month according to the value\n",
    "MaxMin_date = []\n",
    "for key, value in dictt.items():\n",
    "    if value == max_incr:\n",
    "        MaxMin_date.append(key)\n",
    "    if value == min_incr:\n",
    "        MaxMin_date.append(key)\n",
    "print(\"Greatest Increase in Revenue: \" + str(MaxMin_date[0]) + \" ($\" + str(max_incr) + \")\")\n",
    "print(\"Greatest Decrease in Revenue: \" + str(MaxMin_date[1]) + \" ($\" + str(min_incr) + \")\")\n",
    "\n",
    "f = open(\"Output_analysis.txt\" , \"w\")\n",
    "f.write(\"Financial Analysis\"+ \"\\n\")\n",
    "f.write(\"----------------------------\"+ \"\\n\")\n",
    "f.write(\"Total Months: \" + str(countmonth) + \"\\n\")\n",
    "f.write(\"Total Revenue: $\" + str(total_rev)+ \"\\n\")\n",
    "f.write(\"Average Revenue Change: $\" + str(avgRev_change)+ \"\\n\")\n",
    "f.write(\"Greatest Increase in Revenue: \" + str(MaxMin_date[0]) + \" ($\" + str(max_incr) + \")\"+ \"\\n\")\n",
    "f.write(\"Greatest Decrease in Revenue: \" + str(MaxMin_date[1]) + \" ($\" + str(min_incr) + \")\"+\"\\n\")\n",
    "f.close()"
   ]
  },
  {
   "cell_type": "code",
   "execution_count": null,
   "metadata": {},
   "outputs": [],
   "source": []
  }
 ],
 "metadata": {
  "kernelspec": {
   "display_name": "Python 3",
   "language": "python",
   "name": "python3"
  },
  "language_info": {
   "codemirror_mode": {
    "name": "ipython",
    "version": 3
   },
   "file_extension": ".py",
   "mimetype": "text/x-python",
   "name": "python",
   "nbconvert_exporter": "python",
   "pygments_lexer": "ipython3",
   "version": "3.6.4"
  }
 },
 "nbformat": 4,
 "nbformat_minor": 2
}
